{
  "cells": [
    {
      "cell_type": "markdown",
      "id": "0d5035b5",
      "metadata": {
        "id": "0d5035b5"
      },
      "source": [
        "# Set\n",
        "\n",
        "## Aula 8.1"
      ]
    },
    {
      "cell_type": "markdown",
      "id": "0bdece85",
      "metadata": {
        "id": "0bdece85"
      },
      "source": [
        "### Q1.\n",
        "\n",
        "Dada uma string qualquer, use seu conhecimento de sets para apresentar os caracteres únicos que aparecem na string, ordenados alfabeticamente e sem duplicatas. Preste atenção em duplicatas de maiúsculas e minúsculas.\n"
      ]
    },
    {
      "cell_type": "code",
      "execution_count": null,
      "id": "0a258eba",
      "metadata": {
        "id": "0a258eba"
      },
      "outputs": [],
      "source": [
        "frase = \"O rato roeu a roupa do Robson\"\n",
        "\n",
        "# Convertendo a string para lowercase para evitar diferenciação entre maiúsculas e minúsculas\n",
        "frase_lower = frase.lower()\n",
        "\n",
        "# Criando um set dos caracteres únicos na string\n",
        "caracteres_unicos = sorted(set(frase_lower))\n",
        "\n",
        "# Juntando os caracteres de volta em uma string\n",
        "resultado = ''.join(caracteres_unicos)\n",
        "\n",
        "print(resultado)\n"
      ]
    },
    {
      "cell_type": "markdown",
      "id": "0856bd56",
      "metadata": {
        "id": "0856bd56"
      },
      "source": [
        "### Q2\n",
        "\n",
        "Desenvolva uma função em Python chamada ```tem_elementos_comuns()``` que recebe duas listas como parâmetros e retorna True se houver algum elemento comum entre as duas listas, e False caso contrário. Utilize sets para resolver essa tarefa."
      ]
    },
    {
      "cell_type": "code",
      "execution_count": null,
      "id": "f7ab6736",
      "metadata": {
        "id": "f7ab6736"
      },
      "outputs": [],
      "source": [
        "def tem_elementos_comuns(lista1, lista2):\n",
        "    # Convertendo as listas em sets\n",
        "    set1 = set(lista1)\n",
        "    set2 = set(lista2)\n",
        "\n",
        "    # Verificando se há interseção entre os sets\n",
        "    return len(set1.intersection(set2)) > 0"
      ]
    },
    {
      "cell_type": "code",
      "execution_count": null,
      "id": "1022744a",
      "metadata": {
        "id": "1022744a"
      },
      "outputs": [],
      "source": [
        "# Testando a função com as listas fornecidas\n",
        "lista1 = [1, 2, 3, 4]\n",
        "lista2 = [3, 4, 5, 6, 7]\n",
        "resultado = tem_elementos_comuns(lista1, lista2)\n",
        "print(resultado)  # Saída esperada: True"
      ]
    },
    {
      "cell_type": "markdown",
      "id": "649a5082",
      "metadata": {
        "id": "649a5082"
      },
      "source": [
        "### Q3.\n",
        "\n",
        "Você vai coletar de diferentes turmas de alunos seus interesses em atividades extra curriculares dentre futebol, vôlei, rugby, música, teatro, ações comunitárias. Informe o conjunto de atividades comuns a todas a turmas. Pode preencher o iterável turmas com valores arbitrários.\n"
      ]
    },
    {
      "cell_type": "code",
      "execution_count": null,
      "id": "880a9927",
      "metadata": {
        "id": "880a9927"
      },
      "outputs": [],
      "source": [
        "turmas = [\n",
        "     {'ações comunitárias', 'futebol', 'música', 'rugby'},\n",
        "     {'ações comunitárias', 'música', 'rugby', 'teatro'},\n",
        "     {'música', 'rugby', 'teatro', 'vôlei'},\n",
        "     {'música', 'vôlei', 'rugby'},\n",
        "     {'ações comunitárias', 'futebol', 'rugby', 'teatro', 'vôlei'},\n",
        "     {'ações comunitárias', 'futebol', 'rugby'},\n",
        "     {'ações comunitárias', 'rugby', 'teatro', 'vôlei'},\n",
        "     {'ações comunitárias', 'rugby', 'teatro', 'vôlei'},\n",
        "     {'ações comunitárias', 'rugby', 'vôlei'}\n",
        "]\n",
        "\n",
        "# Iniciando com o conjunto da primeira turma\n",
        "conjunto_comum = turmas[0].copy()\n",
        "\n",
        "# Iterando sobre as demais turmas para encontrar a interseção\n",
        "for turma in turmas[1:]:\n",
        "    conjunto_comum = conjunto_comum.intersection(turma)\n",
        "\n",
        "print(conjunto_comum)"
      ]
    },
    {
      "cell_type": "markdown",
      "id": "021e2b1e",
      "metadata": {
        "id": "021e2b1e"
      },
      "source": [
        "### Q4.\n",
        "Considere duas listas que são duplicatas uma da outra, exceto por um elemento, exemplo:\n",
        "```\n",
        "A = [1, 4, 5, 7, 9]\n",
        "B = [4, 5, 7, 9]\n",
        "```\n",
        "\n",
        "Encontre e apresente o elemento diferente, informando também qual das listas está desfalcada. Para o exemplo acima, a saída esperada é\n",
        "```\n",
        "O elemento 1 está faltando na segunda lista\n",
        "```"
      ]
    },
    {
      "cell_type": "code",
      "execution_count": null,
      "id": "608761a4",
      "metadata": {
        "id": "608761a4"
      },
      "outputs": [],
      "source": [
        "A = [1, 4, 5, 7, 9]\n",
        "B = [4, 5, 7, 9]\n",
        "\n",
        "def encontra_elemento_faltante(lista1, lista2):\n",
        "    set1 = set(lista1)\n",
        "    set2 = set(lista2)\n",
        "\n",
        "    elemento_faltante = (set1 ^ set2).pop()\n",
        "\n",
        "    if elemento_faltante in set1:\n",
        "        return f\"O elemento {elemento_faltante} está faltando na segunda lista\"\n",
        "    else:\n",
        "        return f\"O elemento {elemento_faltante} está faltando na primeira lista\"\n",
        "\n",
        "# Testando com as listas fornecidas\n",
        "resultado = encontra_elemento_faltante(A, B)\n",
        "print(resultado)"
      ]
    },
    {
      "cell_type": "markdown",
      "id": "ddf180c1",
      "metadata": {
        "id": "ddf180c1"
      },
      "source": [
        "### Q5.\n",
        "\n",
        "Panagramas são frases que contém todas as letras do alfabeto pelo menos uma vez. Crie uma função ```checa_panagrama``` que recebe uma string e retorna ```True``` caso seja um panagrama ou ```False```caso contrário. Use seu conhecimento de sets para solucionar essa questão.\n",
        "\n",
        "Ex:\n",
        "```\n",
        "Entrada: \"The quick brown fox jumps over the lazy dog\"\n",
        "Saída: É um panagrama\n",
        "```\n",
        "\n",
        "```\n",
        "Entrada: \"Python é uma linguagem de programação\"\n",
        "Saída: Não é um panagrama\n",
        "```"
      ]
    },
    {
      "cell_type": "code",
      "execution_count": null,
      "id": "4e8b0390",
      "metadata": {
        "id": "4e8b0390"
      },
      "outputs": [],
      "source": [
        "import string\n",
        "\n",
        "def checa_panagrama(frase):\n",
        "    alfabeto = set(string.ascii_lowercase)\n",
        "    frase_lower = frase.lower()\n",
        "    caracteres_frase = set(frase_lower.replace(\" \", \"\"))  # Removendo espaços\n",
        "\n",
        "    return alfabeto <= caracteres_frase\n",
        "\n",
        "# Testando com exemplos\n",
        "frase1 = \"The quick brown fox jumps over the lazy dog\"\n",
        "resultado1 = checa_panagrama(frase1)\n",
        "print(resultado1)  # Saída esperada: True\n",
        "\n",
        "frase2 = \"Python é uma linguagem de programação\"\n",
        "resultado2 = checa_panagrama(frase2)\n",
        "print(resultado2)  # Saída esperada: False"
      ]
    }
  ],
  "metadata": {
    "kernelspec": {
      "display_name": "Python 3 (ipykernel)",
      "language": "python",
      "name": "python3"
    },
    "language_info": {
      "codemirror_mode": {
        "name": "ipython",
        "version": 3
      },
      "file_extension": ".py",
      "mimetype": "text/x-python",
      "name": "python",
      "nbconvert_exporter": "python",
      "pygments_lexer": "ipython3",
      "version": "3.9.6"
    },
    "colab": {
      "provenance": []
    }
  },
  "nbformat": 4,
  "nbformat_minor": 5
}