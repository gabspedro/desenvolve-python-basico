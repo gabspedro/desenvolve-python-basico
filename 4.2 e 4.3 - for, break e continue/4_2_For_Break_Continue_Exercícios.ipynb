{
  "cells": [
    {
      "cell_type": "markdown",
      "id": "29e89030",
      "metadata": {
        "id": "29e89030"
      },
      "source": [
        "# Módulo 4 - Repetições\n",
        "\n",
        "## Aulas 4.2 - Comando ```for``` e 4.3 Break e Continue"
      ]
    },
    {
      "cell_type": "markdown",
      "id": "a45b42df",
      "metadata": {
        "id": "a45b42df"
      },
      "source": [
        "### Q1.\n",
        "\n",
        "Crie um programa em Python que utilize o comando for para imprimir os números de 10 a 1, em ordem decrescente."
      ]
    },
    {
      "cell_type": "code",
      "execution_count": null,
      "id": "55a75b3d",
      "metadata": {
        "colab": {
          "base_uri": "https://localhost:8080/"
        },
        "id": "55a75b3d",
        "outputId": "51a27ea2-0cf6-4aab-fe07-f63df7e64a59"
      },
      "outputs": [
        {
          "output_type": "stream",
          "name": "stdout",
          "text": [
            "10\n",
            "9\n",
            "8\n",
            "7\n",
            "6\n",
            "5\n",
            "4\n",
            "3\n",
            "2\n",
            "1\n"
          ]
        }
      ],
      "source": [
        "n = 0\n",
        "\n",
        "for n in range(10, 0, -1):\n",
        "  print(n)"
      ]
    },
    {
      "cell_type": "markdown",
      "id": "94b47c36",
      "metadata": {
        "id": "94b47c36"
      },
      "source": [
        "### Q2.\n",
        "\n",
        "Dado um número inteiro positivo informado pelo usuário, crie um programa em Python que utilize o comando for para calcular e exibir a soma dos números de 1 até o número informado. Ou seja, $1 + 2 + 3 + ... + n$\n",
        "\n",
        "Exemplo de interação:\n",
        "```\n",
        "Digite um número: 5\n",
        "A soma dos números de 1 a 5 é 15\n",
        "```\n"
      ]
    },
    {
      "cell_type": "code",
      "execution_count": null,
      "id": "45b71596",
      "metadata": {
        "colab": {
          "base_uri": "https://localhost:8080/"
        },
        "id": "45b71596",
        "outputId": "77ea51ac-1ebc-4f06-bdb1-ab090c90501c"
      },
      "outputs": [
        {
          "output_type": "stream",
          "name": "stdout",
          "text": [
            "5\n",
            "1\n",
            "3\n",
            "6\n",
            "10\n",
            "15\n"
          ]
        }
      ],
      "source": [
        "n = int(input())\n",
        "soma = 0\n",
        "\n",
        "for i in range(1, n+1):\n",
        "  soma += i\n",
        "  i += 1\n",
        "\n",
        "  print(soma)"
      ]
    },
    {
      "cell_type": "markdown",
      "id": "0411d170",
      "metadata": {
        "id": "0411d170"
      },
      "source": [
        "### Q3.\n",
        "\n",
        "Escreva um programa que lê 10 valores inteiros positivos do usuário e ao final imprime a média dos valores digitados com duas casas decimais.\n",
        "\n",
        "```\n",
        "Digite 10 números positivos:\n",
        "3\n",
        "2\n",
        "12\n",
        "14\n",
        "20\n",
        "42\n",
        "19\n",
        "0\n",
        "8\n",
        "1\n",
        "A média dos valores digitados é 12.10\n",
        "```"
      ]
    },
    {
      "cell_type": "code",
      "execution_count": 27,
      "id": "3f72f358",
      "metadata": {
        "colab": {
          "base_uri": "https://localhost:8080/"
        },
        "id": "3f72f358",
        "outputId": "89a1608c-9c41-49d3-ec92-5c75a0f54224"
      },
      "outputs": [
        {
          "output_type": "stream",
          "name": "stdout",
          "text": [
            "10\n",
            "\n",
            "\n",
            "3\n",
            "6\n",
            "2\n",
            "4\n",
            "12\n",
            "24\n",
            "0\n",
            "0\n",
            "1\n",
            "2\n",
            "2\n",
            "4\n",
            "3\n",
            "6\n",
            "4\n",
            "8\n",
            "5\n",
            "10\n",
            "6\n",
            "12\n",
            "O Resultado é: 4.00\n"
          ]
        }
      ],
      "source": []
    },
    {
      "cell_type": "markdown",
      "id": "d62e27ff",
      "metadata": {
        "id": "d62e27ff"
      },
      "source": [
        "### Q4.\n",
        "\n",
        "Você vai criar um sistema que registra os resultados dos jogos do Atlético MG ao longo de um campeonato. Seu sistema vai receber os resultados de todos os jogos do Galo, e deve calcular a pontuação do time sabendo que vitórias valem 3 pontos, empates 1 ponto e derrotas 0 pontos.\n",
        "\n",
        "Entrada: <br>\n",
        "A primeira linha de entrada é um inteiro N com a quantidade jogos do galo. Para cada jogo você deve ler 2 inteiros, o primeiro com a quantidade de gols do galo e o segundo com a quantidade de gols do time oponente.\n",
        "\n",
        "Saída: <br>\n",
        "Apresente a soma de vitórias, empates e derrotas do galo, junto com o cálculo da pontuação total.\n",
        "\n",
        "Ex:\n",
        "```\n",
        "Entrada:\n",
        "4\n",
        "2\n",
        "0\n",
        "1\n",
        "1\n",
        "0\n",
        "3\n",
        "1\n",
        "0\n",
        "\n",
        "Saída:\n",
        "Vitórias: 2\n",
        "Empates: 1\n",
        "Derrotas: 1\n",
        "Pontuação: 7\n",
        "\n",
        "```\n",
        "\n",
        "\n"
      ]
    },
    {
      "cell_type": "code",
      "execution_count": 16,
      "id": "d3fdfc2a",
      "metadata": {
        "id": "d3fdfc2a",
        "colab": {
          "base_uri": "https://localhost:8080/"
        },
        "outputId": "5cb5990a-48c7-4dc9-b78f-4079743bfbde"
      },
      "outputs": [
        {
          "output_type": "stream",
          "name": "stdout",
          "text": [
            "3\n",
            "Gols Feitos: 2\n",
            "Gols Sofridos: 1\n",
            "\n",
            "\n",
            "Gols Feitos: 0\n",
            "Gols Sofridos: 0\n",
            "\n",
            "\n",
            "Gols Feitos: 1\n",
            "Gols Sofridos: 1\n",
            "\n",
            "\n",
            "Vitorias 0\n",
            "Embates 1\n",
            "Derrotas 0\n",
            "Pontuação 1\n"
          ]
        }
      ],
      "source": [
        "n = int(input())\n",
        "\n",
        "soma_vitorias, soma_empates, soma_derrotas = 0, 0, 0\n",
        "\n",
        "# Jogo é atualizado de acordo com o range, 0-n-1\n",
        "\n",
        "for jogo in range(n):\n",
        "  gols_galo = int(input(\"Gols Feitos: \"))\n",
        "  gols_op = int(input(\"Gols Sofridos: \"))\n",
        "  print(\"\\n\")\n",
        "\n",
        "if gols_galo > gols_op:\n",
        "  soma_vitorias += 1\n",
        "elif gols_galo < gols_op:\n",
        "  soma_derrotas += 1\n",
        "else:\n",
        "  soma_empates += 1\n",
        "\n",
        "\n",
        "print(\"Vitorias\", soma_vitorias)\n",
        "print(\"Embates\", soma_empates)\n",
        "print(\"Derrotas\", soma_derrotas)\n",
        "print(\"Pontuação\", 3*soma_vitorias+soma_empates)"
      ]
    },
    {
      "cell_type": "markdown",
      "id": "fc98604d",
      "metadata": {
        "id": "fc98604d"
      },
      "source": [
        "### Q5.\n",
        "\n",
        "Faça um programa que lê dois inteiros N e M, e imprime na tela um campo de batalha naval. O tabuleiro deve possuir N linhas e M colunas. A primeira linha é composta por um espaço em branco e o cabeçalho das colunas, ou seja, valores de 1 a M. As N linhas seguintes iniciam com o cabeçalho da linha, ou seja, seu número, seguido de M caracteres \"/\" (barra) indicando uma possível posição jogável.\n",
        "\n",
        "```\n",
        "Entrada:\n",
        "5\n",
        "4\n",
        "\n",
        "Saída:\n",
        "  1 2 3 4\n",
        "1 / / / /\n",
        "2 / / / /\n",
        "3 / / / /\n",
        "4 / / / /\n",
        "5 / / / /\n",
        "```\n",
        "\n",
        "Para esse exercício, precisamos lembrar que o comando print implicitamente adiciona uma quebra de linha ao final da impressão. Podemos interferir no final da impressão adicionando mais uma entrada ao print. No exemplo, finalizamos cada linha com um espaço em branco:\n",
        "```python\n",
        "print(\"Texto qualquer\", end = \" \")\n",
        "```"
      ]
    },
    {
      "cell_type": "code",
      "execution_count": null,
      "id": "a60ef197",
      "metadata": {
        "id": "a60ef197"
      },
      "outputs": [],
      "source": [
        "## Escreva e execute seu código aqui\n"
      ]
    },
    {
      "cell_type": "markdown",
      "id": "4654dc0b",
      "metadata": {
        "id": "4654dc0b"
      },
      "source": [
        "---\n",
        "## Break e Continue"
      ]
    },
    {
      "cell_type": "markdown",
      "id": "24fe9d85",
      "metadata": {
        "id": "24fe9d85"
      },
      "source": [
        "#### Q6.\n",
        "\n",
        "Escreva um programa que lê uma quantidade indefinida de valores e informa o maior e o menor valor digitados. A leitura é encerrada quando o usuário digitar o valor 0 (zero).\n",
        "\n",
        "```\n",
        "Entrada:\n",
        "12\n",
        "-1\n",
        "29\n",
        "11\n",
        "-5\n",
        "0\n",
        "\n",
        "Saída:\n",
        "Maior: 29\n",
        "Menor: -5\n",
        "```"
      ]
    },
    {
      "cell_type": "code",
      "execution_count": 19,
      "id": "ee1c466a",
      "metadata": {
        "id": "ee1c466a",
        "colab": {
          "base_uri": "https://localhost:8080/"
        },
        "outputId": "70642812-6617-47f8-85bd-8c9aa3259498"
      },
      "outputs": [
        {
          "output_type": "stream",
          "name": "stdout",
          "text": [
            "12\n",
            "-1\n",
            "29\n",
            "11\n",
            "-5\n",
            "0\n",
            "\n",
            "\n",
            "O Maior Valor é: 29\n",
            "O Menor Valor é: -5\n"
          ]
        }
      ],
      "source": [
        "# Ínicio das Variáveis\n",
        "maior = float('-inf')\n",
        "menor = float('inf')\n",
        "\n",
        "# Processamento\n",
        "\n",
        "while True:\n",
        "  n = int(input())\n",
        "  if n == 0: break\n",
        "\n",
        "\n",
        "  if n > maior:\n",
        "    maior = n\n",
        "  if n < menor:\n",
        "    menor = n\n",
        "\n",
        "# Saída\n",
        "\n",
        "print(\"\\n\")\n",
        "print(f\"O Maior Valor é: {maior}\")\n",
        "print(f\"O Menor Valor é: {menor}\")"
      ]
    },
    {
      "cell_type": "markdown",
      "id": "30d486f7",
      "metadata": {
        "id": "30d486f7"
      },
      "source": [
        "### Q7.\n",
        "\n",
        "Escreva um programa que lê uma quantidade indefinida de valores e informa o **produto** dos valores positivos digitados. A leitura é encerrada quando o usuário digitar o valor 0 (zero).\n",
        "\n",
        "```\n",
        "Entrada:\n",
        "2\n",
        "-1\n",
        "1\n",
        "3\n",
        "-5\n",
        "0\n",
        "\n",
        "Saída:\n",
        "Produto: 6\n",
        "```"
      ]
    },
    {
      "cell_type": "code",
      "execution_count": 21,
      "id": "2f1ac324",
      "metadata": {
        "id": "2f1ac324",
        "colab": {
          "base_uri": "https://localhost:8080/"
        },
        "outputId": "b67b2a1a-2023-4e6a-b397-355e549b46e0"
      },
      "outputs": [
        {
          "output_type": "stream",
          "name": "stdout",
          "text": [
            "2\n",
            "-1\n",
            "1\n",
            "3\n",
            "-5\n",
            "0\n",
            "\n",
            "\n",
            "O Produto Positivo é: 6\n"
          ]
        }
      ],
      "source": [
        "# Ínicio das Variáveis\n",
        "produto = 1\n",
        "\n",
        "# Processamento\n",
        "\n",
        "while True:\n",
        "  n = int(input())\n",
        "  if n == 0: break # Terminar o Laço\n",
        "  if n < 0: continue # Recomeçar o Laço\n",
        "\n",
        "  produto *= n\n",
        "\n",
        "# Saída\n",
        "\n",
        "print(\"\\n\")\n",
        "print(f\"O Produto Positivo é: {produto}\")"
      ]
    },
    {
      "cell_type": "markdown",
      "id": "e932f3cf",
      "metadata": {
        "id": "e932f3cf"
      },
      "source": [
        "### Q8.\n",
        "\n",
        "Vamos fazer uma calculadora que aceita expressões aritméticas de qualquer tamanho até que o usuário digite a palavra \"Fim\". Sua calculadora executa apenas as operações \"+\", \"-\".\n",
        "\n",
        "```\n",
        "Entrada:\n",
        "5\n",
        "+\n",
        "8\n",
        "-\n",
        "3\n",
        "+\n",
        "2\n",
        "Fim\n",
        "\n",
        "Saída:\n",
        "12\n",
        "```"
      ]
    },
    {
      "cell_type": "code",
      "execution_count": null,
      "id": "e835d870",
      "metadata": {
        "id": "e835d870"
      },
      "outputs": [],
      "source": []
    }
  ],
  "metadata": {
    "kernelspec": {
      "display_name": "Python 3 (ipykernel)",
      "language": "python",
      "name": "python3"
    },
    "language_info": {
      "codemirror_mode": {
        "name": "ipython",
        "version": 3
      },
      "file_extension": ".py",
      "mimetype": "text/x-python",
      "name": "python",
      "nbconvert_exporter": "python",
      "pygments_lexer": "ipython3",
      "version": "3.9.6"
    },
    "colab": {
      "provenance": []
    }
  },
  "nbformat": 4,
  "nbformat_minor": 5
}