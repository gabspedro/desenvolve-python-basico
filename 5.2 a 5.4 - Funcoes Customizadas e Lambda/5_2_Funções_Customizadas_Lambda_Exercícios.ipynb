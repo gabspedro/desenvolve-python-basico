{
  "cells": [
    {
      "cell_type": "markdown",
      "id": "cbdff5a5",
      "metadata": {
        "id": "cbdff5a5"
      },
      "source": [
        "# Módulo 5 - Funções\n",
        "\n",
        "## Aulas 5.2 - Funções Customizadas e 5.4 Funções ```lambda```"
      ]
    },
    {
      "cell_type": "markdown",
      "id": "28a3fee2",
      "metadata": {
        "id": "28a3fee2"
      },
      "source": [
        "### Q1.\n",
        "\n",
        "- Sabendo que o código a seguir calcula o fatorial de n, escreva uma função chamada ```fatorial()``` que recebe um inteiro ```n``` como parâmetro e retorna o resultado do fatorial de ```n```.\n",
        "- No programa principal, peça ao usuário o valor de ```n```, chame a sua função e imprima o retorno.\n",
        "\n",
        "```python\n",
        "fat = 1\n",
        "for i in range(1, n+1):\n",
        "    fat *= i\n",
        "```"
      ]
    },
    {
      "cell_type": "code",
      "execution_count": null,
      "id": "d126b3a5",
      "metadata": {
        "id": "d126b3a5"
      },
      "outputs": [],
      "source": [
        "# Retorno para Calcular o Fatorial\n",
        "\n",
        "def fatorial(n):\n",
        "  fat = 1\n",
        "  for i in range(1, n+1):\n",
        "      fat *= i\n",
        "  return fat"
      ]
    },
    {
      "cell_type": "code",
      "source": [
        "# Programa Principal\n",
        "\n",
        "n = int(input(\"Escolha um Número: \"))\n",
        "fat = fatorial(n)\n",
        "\n",
        "print(f\"O Fatorial de {n} é {fat}\")"
      ],
      "metadata": {
        "colab": {
          "base_uri": "https://localhost:8080/"
        },
        "id": "oPRwtoLu5WOB",
        "outputId": "881b3014-1198-409d-e17e-db3527b99f7e"
      },
      "id": "oPRwtoLu5WOB",
      "execution_count": null,
      "outputs": [
        {
          "output_type": "stream",
          "name": "stdout",
          "text": [
            "Escolha um Número: 10\n",
            "O Fatorial de 10 é 3628800\n"
          ]
        }
      ]
    },
    {
      "cell_type": "markdown",
      "id": "c0a1f599",
      "metadata": {
        "id": "c0a1f599"
      },
      "source": [
        "### Q2.\n",
        "\n",
        "- Escreva uma função em Python chamada ```soma_quadrados``` que recebe dois números como parâmetros e retorna a soma dos seus quadrados.\n",
        "- No programa principal solicite ao usuário que insira dois números e utilize a função para exibir a soma dos quadrados."
      ]
    },
    {
      "cell_type": "code",
      "execution_count": null,
      "id": "6dbddaad",
      "metadata": {
        "id": "6dbddaad"
      },
      "outputs": [],
      "source": [
        "# Função para Realizar a Potenciação dos Números Informados\n",
        "# No Programa Principal\n",
        "\n",
        "def quadrado(n1, n2):\n",
        "    q1 = 0\n",
        "    q2 = 0\n",
        "    for i in range(n1**2 + 1):\n",
        "        q1 = i\n",
        "    for j in range(n2**2 + 1):\n",
        "        q2 = j\n",
        "    return q1, q2"
      ]
    },
    {
      "cell_type": "code",
      "execution_count": null,
      "id": "9175a7da",
      "metadata": {
        "colab": {
          "base_uri": "https://localhost:8080/"
        },
        "id": "9175a7da",
        "outputId": "581de267-7ade-46f7-a663-18837d0e18ff"
      },
      "outputs": [
        {
          "output_type": "stream",
          "name": "stdout",
          "text": [
            "Escolha o Primeiro Número: 10\n",
            "Escolha o Segundo Número: 12\n",
            "10² é igual a 100\n",
            "12² é igual a 144\n",
            "\n",
            "\n",
            "O resultado da soma de 10² e 12² é 244\n"
          ]
        }
      ],
      "source": [
        "# Programa Principal\n",
        "\n",
        "n1 = int(input(\"Escolha o Primeiro Número: \"))\n",
        "n2 = int(input(\"Escolha o Segundo Número: \"))\n",
        "\n",
        "q1, q2 = quadrado(n1, n2)\n",
        "print(f\"{n1}² é igual a {q1}\")\n",
        "print(f\"{n2}² é igual a {q2}\")\n",
        "print(\"\\n\")\n",
        "\n",
        "resultado = q1 + q2\n",
        "\n",
        "print(f\"O resultado da soma de {n1}² e {n2}² é {resultado}\")"
      ]
    },
    {
      "cell_type": "markdown",
      "id": "6ba34ce0",
      "metadata": {
        "id": "6ba34ce0"
      },
      "source": [
        "### Q3.\n",
        "\n",
        "- Crie uma função em Python chamada ```soma_digitos``` que recebe um número inteiro como parâmetro e retorna a soma dos seus dígitos. Por exemplo, para o número 123, a função deve retornar 6, $(1 + 2 + 3)$.\n",
        "    - O desafio aqui é separar os dígitos de um número inteiro usando operações aritméticas <br> <br>\n",
        "\n",
        "- No programa principal solicite ao usuário que insira um número e utilize a função ```soma_digitos``` para calcular e exibir a soma dos seus dígitos."
      ]
    },
    {
      "cell_type": "code",
      "execution_count": null,
      "id": "34838ebf",
      "metadata": {
        "id": "34838ebf"
      },
      "outputs": [],
      "source": [
        "# Função para \"Separar\" e Somar os Digitos\n",
        "\n",
        "def soma_digitos(n):\n",
        "    soma = 0\n",
        "    while n > 0:\n",
        "        soma += n % 10\n",
        "        n //= 10\n",
        "    return soma"
      ]
    },
    {
      "cell_type": "code",
      "execution_count": null,
      "id": "27c35b21",
      "metadata": {
        "id": "27c35b21",
        "colab": {
          "base_uri": "https://localhost:8080/"
        },
        "outputId": "079bc412-ccb0-4aeb-9bc9-69b20ab8ee93"
      },
      "outputs": [
        {
          "output_type": "stream",
          "name": "stdout",
          "text": [
            "Digite um número inteiro: 123\n",
            "A soma dos dígitos do número 123 é: 6\n"
          ]
        }
      ],
      "source": [
        "# Programa Principal\n",
        "\n",
        "n = int(input(\"Digite um número inteiro: \"))\n",
        "\n",
        "r = soma_digitos(n)\n",
        "print(f\"A soma dos dígitos do número {n} é: {r}\")"
      ]
    },
    {
      "cell_type": "markdown",
      "id": "c318b159",
      "metadata": {
        "id": "c318b159"
      },
      "source": [
        "### Q4.\n",
        "\n",
        "- Crie a função ```inverteValor()``` que recebe um inteiro de qualquer tamanho e retorna esse valor invertido usando apenas operações aritméticas\n",
        "- Crie a função ```verificaInverso()``` que recebe o valor original e o valor invertido e retorna verdadeiro se ambos forem igualmente par ou igualmente ímpar. Retorne falso caso contrário.\n",
        "- No programa principal, peça um valor do usuário e imprima o retorno de ambas as funções.\n"
      ]
    },
    {
      "cell_type": "code",
      "execution_count": null,
      "id": "e4e47d1d",
      "metadata": {
        "id": "e4e47d1d"
      },
      "outputs": [],
      "source": [
        "# Função para Inverter o Valor\n",
        "\n",
        "def inverterValor(n):\n",
        "    inverter = 0\n",
        "    while n > 0:\n",
        "        u_d = n % 10\n",
        "        inverter = (inverter * 10) + u_d\n",
        "        n //= 10\n",
        "    return inverter\n",
        "\n",
        "# Função para Verificar se o Original e o Inverso são Pares\n",
        "\n",
        "def verificarInverso(og, invertido):\n",
        "    return(og % 2 == invertido % 2)"
      ]
    },
    {
      "cell_type": "code",
      "execution_count": null,
      "id": "a9514e56",
      "metadata": {
        "id": "a9514e56",
        "colab": {
          "base_uri": "https://localhost:8080/"
        },
        "outputId": "e76b97ff-e930-4c2d-a1b1-0844987bc524"
      },
      "outputs": [
        {
          "output_type": "stream",
          "name": "stdout",
          "text": [
            "4444\n",
            "O Valor Invertido é 4444\n",
            "O Valor Original e Inverso são Pares\n"
          ]
        }
      ],
      "source": [
        "# Programa Principal\n",
        "\n",
        "n = int(input())\n",
        "\n",
        "r = inverterValor(n)\n",
        "print(f\"O Valor Invertido é {r}\")\n",
        "\n",
        "v = verificarInverso(n, r)\n",
        "if verificarInverso:\n",
        "    print(\"O Valor Original e Inverso são Pares\")\n",
        "else:\n",
        "    print(\"O Valor Original e Inverso não são Pares\")"
      ]
    },
    {
      "cell_type": "markdown",
      "id": "329be966",
      "metadata": {
        "id": "329be966"
      },
      "source": [
        "### Q5.\n",
        "\n",
        "Você está desenvolvendo um programa para auxiliar em cálculos de geometria básica. Crie as seguintes funções:\n",
        "- A função ```calcula_perimetro_triangulo()``` que recebe três inteiros correspondentes aos lados de um triângulo e retorna o perímetro do triângulo, ou seja, a soma dos seus lados.\n",
        "- A função ```calcula_perimetro_circulo()``` que recebe um inteiro referente ao raio do círculo e retorna o perímetro do círculo, dado por $2 \\pi r$. Use a constante $\\pi$ da biblioteca ```math```.\n",
        "- A função ```calcula_perimetro_retangulo()``` que possui um parâmetro obrigatório ```lado1``` e um opcional ```lado2```, ambos inteiros. Se o valor opcional não for fornecido, significa que se trata de um quadrado. Sua função deve calcular e retornar o perímetro do retângulo, ou seja, a soma de seus lados.\n",
        "    - Para o quadrado, é dado por $4 \\times lado1$\n",
        "    - Para o retângulo é dado por $2 \\times lado1 + 2 \\times lado2$\n",
        "    \n",
        "- No programa principal apresente um menu com as opções disponíveis do seu sistema e uma quarta opção ```Sair```. Solicite ao usuário a opção desejada, solicite as entradas correspondentes à opção escolhida, invoque a respective função e apresente o seu retorno. Seu programa deve retornar ao menu até que o usuário escolha a opção ```Sair```\n",
        "\n",
        "Exemplo de interação:\n",
        "```\n",
        "1 - Calcular perímetro triângulo\n",
        "2 - Calcular perímetro círculo\n",
        "3 - Calcular perímetro retângulo\n",
        "4 - Sair\n",
        "\n",
        "Opção: 1\n",
        "Digite os três lados do triângulo:\n",
        "3\n",
        "4\n",
        "5\n",
        "O perímetro é: 12\n",
        "\n",
        "1 - Calcular perímetro triângulo\n",
        "2 - Calcular perímetro círculo\n",
        "3 - Calcular perímetro retângulo\n",
        "4 - Sair\n",
        "\n",
        "Opção: 3\n",
        "Informe os dois lados do retângulo. Se for um quadrado, digite 0 para o segundo valor:\n",
        "5\n",
        "0\n",
        "O perímetro é: 20\n",
        "\n",
        "1 - Calcular perímetro triângulo\n",
        "2 - Calcular perímetro círculo\n",
        "3 - Calcular perímetro retângulo\n",
        "4 - Sair\n",
        "\n",
        "Opção: 4\n",
        "```"
      ]
    },
    {
      "cell_type": "code",
      "execution_count": null,
      "id": "0793d328",
      "metadata": {
        "id": "0793d328"
      },
      "outputs": [],
      "source": [
        "# Bibliotecas\n",
        "\n",
        "import math\n",
        "\n",
        "# Função Definir os Valores de Cada Lado\n",
        "\n",
        "def triangulo(n1, n2, n3):\n",
        "    t1, t2, t3 = 0, 0, 0\n",
        "\n",
        "    for i in range(n1 + 1):\n",
        "        t1 = i\n",
        "    for j in range(n2 + 1):\n",
        "        t2 = j\n",
        "    for k in range(n3 + 1):\n",
        "        t3 = k\n",
        "    return i, j, k\n",
        "\n",
        "# Função Para Definir o Parte do Perímetro do Raio\n",
        "\n",
        "def circulo(r):\n",
        "    c = 0\n",
        "\n",
        "    for i in range(2 * r + 1):\n",
        "        c = i\n",
        "    return i\n",
        "\n",
        "# Funções Para Definir os Lados do Quadrado e do Retângulo\n",
        "\n",
        "def quadrado(n1):\n",
        "    l1 = 0\n",
        "\n",
        "    for i in range((n1 * 4) + 1):\n",
        "        l1 = i\n",
        "    return i\n",
        "\n",
        "def retangulo(n1, n2):\n",
        "    l1, l2 = 0, 0\n",
        "\n",
        "    for i in range((2 * n1) + 1):\n",
        "        l1 = i\n",
        "    for j in range((2 * n2) + 1):\n",
        "        l2 = j\n",
        "    return i,\n"
      ]
    },
    {
      "cell_type": "code",
      "execution_count": null,
      "id": "36269c71",
      "metadata": {
        "id": "36269c71",
        "colab": {
          "base_uri": "https://localhost:8080/"
        },
        "outputId": "8a0ecd1f-054a-4ae9-b0c1-cfbafc3dee77"
      },
      "outputs": [
        {
          "output_type": "stream",
          "name": "stdout",
          "text": [
            "1 - Calcular perímetro triângulo\n",
            "2 - Calcular Perímetro do Círculo\n",
            "3 - Calcular Perímetro do Retângulo\n",
            "4 - Sair\n",
            "\n",
            "\n",
            "3\n",
            "Primeiro Lado: 1\n",
            "Segundo Lado: 4\n",
            "\n",
            "\n",
            "O Perímento do Retângulo é 10\n"
          ]
        }
      ],
      "source": [
        "# Programa Principal\n",
        "\n",
        "print(\"1 - Calcular perímetro triângulo\")\n",
        "print(\"2 - Calcular Perímetro do Círculo\")\n",
        "print(\"3 - Calcular Perímetro do Retângulo\")\n",
        "print(\"4 - Sair\")\n",
        "print(\"\\n\")\n",
        "\n",
        "opcao = int(input(\"Escolha uma Opção: \"))\n",
        "\n",
        "if opcao == 1:\n",
        "    n1 = int(input(\"Primeiro Lado: \"))\n",
        "    n2 = int(input(\"Segundo Lado: \"))\n",
        "    n3 = int(input(\"Terceiro Lado: \"))\n",
        "    print(\"\\n\")\n",
        "\n",
        "    t1, t2, t3 = triangulo(n1, n2, n3)\n",
        "    resultado = t1 + t2 + t3\n",
        "\n",
        "    print(f\"O Peímetro do Triângulo é {resultado}\")\n",
        "\n",
        "elif opcao == 2:\n",
        "    r = int(input(\"Qual o Raio do Circulo: \"))\n",
        "    print(\"\\n\")\n",
        "\n",
        "    c = circulo(r)\n",
        "\n",
        "# Variável para Terminar a Conta do Perímetro do Círculo\n",
        "\n",
        "    resultado = c * math.pi\n",
        "\n",
        "    print(f\"O perimetro do Círculo é {resultado}\")\n",
        "\n",
        "elif opcao == 3:\n",
        "    n1 = int(input(\"Primeiro Lado: \"))\n",
        "    n2 = int(input(\"Segundo Lado: \"))\n",
        "    print(\"\\n\")\n",
        "\n",
        "    if n2 == 0:\n",
        "        l1 = quadrado(n1)\n",
        "        print(f\"O Perímetro do Quadrado é {quadrado(n1)}\")\n",
        "    else:\n",
        "        l1, l2 = retangulo(n1, n2)\n",
        "        resultado = l1 + l2\n",
        "        print(f\"O Perímento do Retângulo é {resultado}\")"
      ]
    },
    {
      "cell_type": "markdown",
      "id": "3016bcc7",
      "metadata": {
        "id": "3016bcc7"
      },
      "source": [
        "## Funções ```lambda```"
      ]
    },
    {
      "cell_type": "markdown",
      "id": "f9cdb8dd",
      "metadata": {
        "id": "f9cdb8dd"
      },
      "source": [
        "### Q6.\n",
        "\n",
        "Crie uma função lambda para verificar se um número é par ou ímpar. Em seguida, solicite ao usuário um número indefinidos de valores (até que o usuário digite 0). Para cada valor de entrada, informe se é par ou ímpar.\n",
        "\n",
        "Exemplo de interação:\n",
        "```\n",
        "Digite os valores que deseja verificar a paridade (digite 0 para finalizar a entrada de dados):\n",
        "3\n",
        "ímpar\n",
        "8\n",
        "par\n",
        "12\n",
        "par\n",
        "5\n",
        "ímpar\n",
        "7ímpar\n",
        "```"
      ]
    },
    {
      "cell_type": "code",
      "execution_count": null,
      "id": "e3c31a78",
      "metadata": {
        "id": "e3c31a78"
      },
      "outputs": [],
      "source": [
        "v = lambda n: \"Par\" if n % 2 == 0 else \"Ímpar\"\n",
        "\n",
        "while n > 0:\n",
        "    n = int(input(\"Escolha Um Número: \"))\n",
        "    print(\"\\n\")\n",
        "\n",
        "    if n != 0:\n",
        "        r = v(n)\n",
        "        print(n)\n",
        "        print(f\"Esse Número é {r}\")\n",
        "        print(\"\\n\")\n",
        "    else:\n",
        "        break"
      ]
    },
    {
      "cell_type": "markdown",
      "id": "5a87474d",
      "metadata": {
        "id": "5a87474d"
      },
      "source": [
        "### Q7.\n",
        "\n",
        "Escreva um programa que pergunte ao usuário qual operação ele deseja: maior ou menor.\n",
        "Em seguida leia uma quantidade indefinida de valores do usuário, até que o usuário digite o valor zero.\n",
        "Apresente ao final o maior ou menor dos valores digitados de acordo com a escolha do usuário.\n",
        "\n",
        "**Sua solução deve incluir pelo menos uma função ```lambda```**\n",
        "\n",
        "Exemplo de interação:\n",
        "```\n",
        "Opções: (1) maior ou (2) menor?\n",
        "Opção: 1\n",
        "\n",
        "Digite os valores de entrada. Digite 0 para finalizar a entrada de valores.\n",
        "4\n",
        "12\n",
        "15\n",
        "1\n",
        "0\n",
        "\n",
        "O maior valor é: 15\n",
        "```"
      ]
    },
    {
      "cell_type": "code",
      "execution_count": null,
      "id": "ee3f68ca",
      "metadata": {
        "id": "ee3f68ca"
      },
      "outputs": [],
      "source": [
        "print(\"1 - Maior\")\n",
        "print(\"2 - Menor\")\n",
        "print(\"\\n\")\n",
        "opcao = int(input(\"Escolha uma Opção: \"))\n",
        "print(\"\\n\")\n",
        "\n",
        "if opcao == 1:\n",
        "    r = float(\"-inf\")\n",
        "    func = lambda a, b: a > b\n",
        "elif opcao == 2:\n",
        "    r = float(\"inf\")\n",
        "    func = lambda a, b: a < b\n",
        "\n",
        "while True:\n",
        "    n = int(input(\"Insira o Valor Desejado: \"))\n",
        "    if n == 0: break\n",
        "\n",
        "    if func(n, r):\n",
        "        r = n\n",
        "print(r)"
      ]
    }
  ],
  "metadata": {
    "kernelspec": {
      "display_name": "Python 3 (ipykernel)",
      "language": "python",
      "name": "python3"
    },
    "language_info": {
      "codemirror_mode": {
        "name": "ipython",
        "version": 3
      },
      "file_extension": ".py",
      "mimetype": "text/x-python",
      "name": "python",
      "nbconvert_exporter": "python",
      "pygments_lexer": "ipython3",
      "version": "3.9.6"
    },
    "colab": {
      "provenance": []
    }
  },
  "nbformat": 4,
  "nbformat_minor": 5
}