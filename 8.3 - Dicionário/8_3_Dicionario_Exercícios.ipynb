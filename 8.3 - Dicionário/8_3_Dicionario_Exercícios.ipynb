{
  "cells": [
    {
      "cell_type": "markdown",
      "id": "0d5035b5",
      "metadata": {
        "id": "0d5035b5"
      },
      "source": [
        "# Dicionários\n",
        "\n",
        "## Aula 8.3"
      ]
    },
    {
      "cell_type": "markdown",
      "id": "0bdece85",
      "metadata": {
        "id": "0bdece85"
      },
      "source": [
        "### Q1.\n",
        "\n",
        "Escreva uma função em Python chamada ```contagem_caracteres``` que recebe uma string como parâmetro e retorna um dicionário onde as chaves são os caracteres presentes na string e os valores são a contagem de cada caractere.\n"
      ]
    },
    {
      "cell_type": "code",
      "execution_count": null,
      "id": "09a9845d",
      "metadata": {
        "id": "09a9845d"
      },
      "outputs": [],
      "source": [
        "def contagem_caracteres(frase):\n",
        "    contador = {}\n",
        "    for caractere in frase:\n",
        "        if caractere in contador:\n",
        "            contador[caractere] += 1\n",
        "        else:\n",
        "            contador[caractere] = 1\n",
        "    return contador"
      ]
    },
    {
      "cell_type": "code",
      "execution_count": null,
      "id": "0a258eba",
      "metadata": {
        "id": "0a258eba"
      },
      "outputs": [],
      "source": [
        "# Exemplo de uso\n",
        "frase = \"python programming\"\n",
        "resultado = contagem_caracteres(frase)\n",
        "print(resultado)"
      ]
    },
    {
      "cell_type": "markdown",
      "id": "649a5082",
      "metadata": {
        "id": "649a5082"
      },
      "source": [
        "### Q2.\n",
        "\n",
        "Baixe o arquivo contendo o roteiro do filme brasileiro \"Estômago\" e salve em seu computador com o nome \"estomago.txt\".\n",
        "\n",
        "https://aplauso.imprensaoficial.com.br/edicoes/12.0.813.502/12.0.813.502.txt\n",
        "\n",
        "- Escreva um script python que abre o arquivo de texto e cria um dicionário contando a quantidade de vezes que cada palavra aparece no texto.\n",
        "- Em seguida ordene o dicionário de forma decrescente pelos valores. Dessa maneira ele irá apresentar as palavras mais frequentes no início.\n",
        "- Apresente na tela o dicionário ordenado\n"
      ]
    },
    {
      "cell_type": "code",
      "execution_count": null,
      "id": "47cb0573",
      "metadata": {
        "id": "47cb0573"
      },
      "outputs": [],
      "source": [
        "# Baixe o arquivo manualmente e salve com o nome 'estomago.txt' no mesmo diretório do script\n",
        "\n",
        "def contar_palavras_arquivo(nome_arquivo):\n",
        "    contador = {}\n",
        "    with open(nome_arquivo, 'r', encoding='utf-8') as arquivo:\n",
        "        for linha in arquivo:\n",
        "            palavras = linha.strip().split()\n",
        "            for palavra in palavras:\n",
        "                palavra = palavra.lower()\n",
        "                if palavra in contador:\n",
        "                    contador[palavra] += 1\n",
        "                else:\n",
        "                    contador[palavra] = 1\n",
        "    return contador\n",
        "\n",
        "# Nome do arquivo baixado manualmente\n",
        "nome_arquivo = 'estomago.txt'\n",
        "resultado = contar_palavras_arquivo(nome_arquivo)\n",
        "\n",
        "# Ordenando o dicionário de forma decrescente pelos valores\n",
        "resultado_ordenado = dict(sorted(resultado.items(), key=lambda item: item[1], reverse=True))\n",
        "\n",
        "# Imprimindo na tela o dicionário ordenado\n",
        "print(resultado_ordenado)\n"
      ]
    },
    {
      "cell_type": "markdown",
      "id": "bb62d219",
      "metadata": {
        "id": "bb62d219"
      },
      "source": [
        "### Q3.\n",
        "\n",
        "Crie uma função chamada ```mesclar_dicionarios``` que recebe dois dicionários como parâmetros e retorna um novo dicionário contendo a fusão dos dois. Se houver chaves comuns, o maior valor deve prevalecer."
      ]
    },
    {
      "cell_type": "code",
      "execution_count": null,
      "id": "f4363612",
      "metadata": {
        "id": "f4363612"
      },
      "outputs": [],
      "source": [
        "def mesclar_dicionarios(dicionario1, dicionario2):\n",
        "    resultado = dicionario1.copy()\n",
        "    for chave, valor in dicionario2.items():\n",
        "        if chave in resultado:\n",
        "            if valor > resultado[chave]:\n",
        "                resultado[chave] = valor\n",
        "        else:\n",
        "            resultado[chave] = valor\n",
        "    return resultado"
      ]
    },
    {
      "cell_type": "code",
      "execution_count": null,
      "id": "add41556",
      "metadata": {
        "id": "add41556"
      },
      "outputs": [],
      "source": [
        "# Exemplo de uso:\n",
        "dicionario1 = {'a': 1, 'b': 2, 'c': 3}\n",
        "dicionario2 = {'b': 4, 'd': 5}\n",
        "resultado = mesclar_dicionarios(dicionario1, dicionario2)\n",
        "print(resultado)\n",
        "# Saída esperada: {'a': 1, 'b': 4, 'c': 3, 'd': 5}"
      ]
    },
    {
      "cell_type": "markdown",
      "id": "8710b1a7",
      "metadata": {
        "id": "8710b1a7"
      },
      "source": [
        "### Q4.\n",
        "\n",
        "Desenvolva uma função em Python chamada ```filtrar_dicionario``` que recebe um dicionário e uma lista de chaves como parâmetros e retorna um novo dicionário contendo apenas as chaves que estão presentes na lista."
      ]
    },
    {
      "cell_type": "code",
      "execution_count": null,
      "id": "0b7ee921",
      "metadata": {
        "id": "0b7ee921"
      },
      "outputs": [],
      "source": [
        "def filtrar_dicionario(dados, chaves_filtradas):\n",
        "    return {chave: dados[chave] for chave in chaves_filtradas if chave in dados}"
      ]
    },
    {
      "cell_type": "code",
      "execution_count": null,
      "id": "ebc131f6",
      "metadata": {
        "id": "ebc131f6"
      },
      "outputs": [],
      "source": [
        "# Exemplo de uso:\n",
        "dados = {'a': 1, 'b': 2, 'c': 3, 'd': 4, 'e': 5}\n",
        "chaves_filtradas = ['a', 'c', 'e']\n",
        "resultado = filtrar_dicionario(dados, chaves_filtradas)\n",
        "print(resultado)\n",
        "# Saída esperada: {'a': 1, 'c': 3, 'e': 5}"
      ]
    },
    {
      "cell_type": "markdown",
      "id": "3203c51e",
      "metadata": {
        "id": "3203c51e"
      },
      "source": [
        "### Q5.\n",
        "\n",
        "Você está responsável por analisar os resultados de uma votação. Cada voto é representado por um dicionário com o nome do candidato e a quantidade de votos que recebeu em uma determinada sessão eleitoral. Escreva uma função chamada ```resultado_votacao``` que recebe uma lista de dicionários de votos e retorna um dicionário onde as chaves são os nomes dos candidatos, e os valores são tuplas ```(total, percentual)``` com o total de votos recebidos por cada candidato e o percentual em relação à soma total de votos em todos os candidatos."
      ]
    },
    {
      "cell_type": "code",
      "execution_count": null,
      "id": "2c856eee",
      "metadata": {
        "id": "2c856eee"
      },
      "outputs": [],
      "source": [
        "def resultado_votacao(votos):\n",
        "    total_votos = {}\n",
        "    total_global = 0\n",
        "\n",
        "    # Calculando o total de votos para cada candidato\n",
        "    for sessao in votos:\n",
        "        for candidato, votos in sessao.items():\n",
        "            if candidato in total_votos:\n",
        "                total_votos[candidato] += votos\n",
        "            else:\n",
        "                total_votos[candidato] = votos\n",
        "            total_global += votos\n",
        "\n",
        "    # Calculando o percentual de votos para cada candidato\n",
        "    resultado_percentual = {}\n",
        "    for candidato, total in total_votos.items():\n",
        "        percentual = (total / total_global) * 100\n",
        "        resultado_percentual[candidato] = (total, round(percentual, 2))\n",
        "\n",
        "    return resultado_percentual"
      ]
    },
    {
      "cell_type": "code",
      "execution_count": null,
      "id": "ff2044de",
      "metadata": {
        "id": "ff2044de"
      },
      "outputs": [],
      "source": [
        "# Exemplo de uso:\n",
        "votos = [\n",
        "    {'candidato_A': 120, 'candidato_B': 85, 'candidato_C': 90},\n",
        "    {'candidato_A': 110, 'candidato_B': 95, 'candidato_C': 80},\n",
        "    {'candidato_A': 130, 'candidato_B': 78, 'candidato_C': 105},\n",
        "]\n",
        "resultado = resultado_votacao(votos)\n",
        "print(resultado)  # Saída esperada: {'candidato_A': (360, 40.31), 'candidato_B': (258, 28.89),\n",
        "                                ###  'candidato_C': (275, 30.79)}"
      ]
    }
  ],
  "metadata": {
    "kernelspec": {
      "display_name": "Python 3 (ipykernel)",
      "language": "python",
      "name": "python3"
    },
    "language_info": {
      "codemirror_mode": {
        "name": "ipython",
        "version": 3
      },
      "file_extension": ".py",
      "mimetype": "text/x-python",
      "name": "python",
      "nbconvert_exporter": "python",
      "pygments_lexer": "ipython3",
      "version": "3.9.6"
    },
    "colab": {
      "provenance": []
    }
  },
  "nbformat": 4,
  "nbformat_minor": 5
}