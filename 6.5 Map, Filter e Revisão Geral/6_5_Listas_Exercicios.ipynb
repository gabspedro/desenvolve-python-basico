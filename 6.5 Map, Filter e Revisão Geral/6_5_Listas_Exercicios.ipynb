{
  "cells": [
    {
      "cell_type": "markdown",
      "id": "0d5035b5",
      "metadata": {
        "id": "0d5035b5"
      },
      "source": [
        "# Listas\n",
        "\n",
        "## Aulas 6.1 a 6.5"
      ]
    },
    {
      "cell_type": "markdown",
      "id": "0bdece85",
      "metadata": {
        "id": "0bdece85"
      },
      "source": [
        "### Q1.\n",
        "\n",
        "Usando a função embutida ```map``` e criando uma função ```lambda```, transforme uma lista com os raios de múltiplas circunferências em uma nova lista com as respectivas áreas. O cálculo de cada área é dado por: ```pi*(raio**2)```\n",
        "- Use a constante pi da biblioteca math\n",
        "- Arredonde o resultado para 2 casas decimais\n"
      ]
    },
    {
      "cell_type": "code",
      "source": [
        "import math\n",
        "\n",
        "raios = [2.5, 3.7, 1.8, 5.2]\n",
        "\n",
        "areas = list(map(lambda raio: round(math.pi * raio**2, 2), raios))\n",
        "\n",
        "print(areas)"
      ],
      "metadata": {
        "colab": {
          "base_uri": "https://localhost:8080/"
        },
        "id": "ORoUH7iJXVGi",
        "outputId": "dce8e3de-187b-43b1-cccf-5896ccf0d6c7"
      },
      "id": "ORoUH7iJXVGi",
      "execution_count": 1,
      "outputs": [
        {
          "output_type": "stream",
          "name": "stdout",
          "text": [
            "[19.63, 43.01, 10.18, 84.95]\n"
          ]
        }
      ]
    },
    {
      "cell_type": "markdown",
      "id": "649a5082",
      "metadata": {
        "id": "649a5082"
      },
      "source": [
        "### Q2.\n",
        "\n",
        "Crie uma função customizada e aplique a função embutida ```filter``` para operar em uma lista de listas contendo os lados de múltiplos triângulos. Construa uma nova lista contendo apenas os triângulos equiláteros, ou seja, com os três lados iguais.\n"
      ]
    },
    {
      "cell_type": "code",
      "execution_count": 4,
      "id": "47cb0573",
      "metadata": {
        "id": "47cb0573",
        "colab": {
          "base_uri": "https://localhost:8080/"
        },
        "outputId": "18d8f89f-b6b1-4bf3-e849-98835eda85b3"
      },
      "outputs": [
        {
          "output_type": "stream",
          "name": "stdout",
          "text": [
            "[[2, 2, 2], [4, 4, 4]]\n"
          ]
        }
      ],
      "source": [
        "def testa_equilatero(lados): return len(set(lados)) == 1\n",
        "\n",
        "triangulos  = [[2,2,2], [3,4,5], [3,2,2],[4,4,4]]\n",
        "\n",
        "equilatero = list(filter(testa_equilatero, triangulos))\n",
        "\n",
        "print(equilatero)"
      ]
    },
    {
      "cell_type": "markdown",
      "id": "bb62d219",
      "metadata": {
        "id": "bb62d219"
      },
      "source": [
        "### Q3.\n",
        "Crie uma função chamada ```ordena_por_comprimento``` que aceite uma lista de strings e a ordene com base no comprimento das strings, do menor para o maior. Utilize a função ```sorte``` e uma expressão ```lambda```."
      ]
    },
    {
      "cell_type": "code",
      "execution_count": 5,
      "id": "add41556",
      "metadata": {
        "id": "add41556",
        "colab": {
          "base_uri": "https://localhost:8080/"
        },
        "outputId": "c6c5b53a-0bdc-4f08-c2cd-d61981fce58f"
      },
      "outputs": [
        {
          "output_type": "stream",
          "name": "stdout",
          "text": [
            "['Sol', 'Joao', 'Jose', 'Luna', 'Enzo', 'Maria', 'Bento', 'Gabriela', 'Fernanda']\n"
          ]
        }
      ],
      "source": [
        "def ordena_por_comprimento(lista):\n",
        "    return sorted(lista, key=lambda s: len(s))\n",
        "\n",
        "lista_de_strings = [\"Joao\", \"Maria\", \"Jose\", \"Gabriela\", \"Sol\", \"Luna\", \"Bento\", \"Enzo\", \"Fernanda\"]\n",
        "lista_ordenada = ordena_por_comprimento(lista_de_strings)\n",
        "print(lista_ordenada)"
      ]
    },
    {
      "cell_type": "markdown",
      "id": "8710b1a7",
      "metadata": {
        "id": "8710b1a7"
      },
      "source": [
        "### Q4.\n",
        "\n",
        "Crie uma lista de listas (uma matriz de 2 dimensões) de tamanho $n \\times n$, com $n$ dado pelo usuário. Cada elemento da matriz deve ser o produto dos índices da linha pela coluna.\n",
        "\n",
        "Exemplo:\n",
        "```\n",
        "Digite n: 4\n",
        "Matriz:\n",
        "[[0, 0, 0, 0],\n",
        " [0, 1, 2, 3],\n",
        " [0, 2, 4, 6],\n",
        " [0, 3, 6, 9]]\n",
        "```"
      ]
    },
    {
      "cell_type": "code",
      "execution_count": 6,
      "id": "0b7ee921",
      "metadata": {
        "id": "0b7ee921",
        "colab": {
          "base_uri": "https://localhost:8080/"
        },
        "outputId": "f3156d3d-8d66-4bcb-84c4-a58b5ed5c6ee"
      },
      "outputs": [
        {
          "output_type": "stream",
          "name": "stdout",
          "text": [
            "Digite o tamanho da matriz (n): 3\n",
            "[0, 0, 0]\n",
            "[0, 1, 2]\n",
            "[0, 2, 4]\n"
          ]
        }
      ],
      "source": [
        "def cria_matriz(n):\n",
        "    matriz = [[i * j for j in range(n)] for i in range(n)]\n",
        "    return matriz\n",
        "\n",
        "n = int(input(\"Digite o tamanho da matriz (n): \"))\n",
        "matriz = cria_matriz(n)\n",
        "\n",
        "for linha in matriz:\n",
        "    print(linha)"
      ]
    },
    {
      "cell_type": "markdown",
      "id": "f41781df",
      "metadata": {
        "id": "f41781df"
      },
      "source": [
        "### Q5.\n",
        "\n",
        "Dada uma lista de números inteiros, implemente uma função em Python chamada ```pares_unicos``` que encontre e retorne todos os pares únicos de elementos na lista cuja soma seja igual a um determinado valor. Considere que a ordem dos pares não é relevante."
      ]
    },
    {
      "cell_type": "code",
      "execution_count": 7,
      "id": "7a76f765",
      "metadata": {
        "id": "7a76f765",
        "colab": {
          "base_uri": "https://localhost:8080/"
        },
        "outputId": "2da8fe60-08e9-4e24-b7a6-af1ae27b49a6"
      },
      "outputs": [
        {
          "output_type": "stream",
          "name": "stdout",
          "text": [
            "[(-1, 7), (1, 5)]\n"
          ]
        }
      ],
      "source": [
        "def pares_unicos(lista, valor_soma):\n",
        "    pares = set()\n",
        "    vistos = set()\n",
        "\n",
        "    for numero in lista:\n",
        "        complemento = valor_soma - numero\n",
        "        if complemento in vistos:\n",
        "\n",
        "            par = tuple(sorted((numero, complemento)))\n",
        "            pares.add(par)\n",
        "        vistos.add(numero)\n",
        "\n",
        "    return list(pares)\n",
        "\n",
        "lista_de_numeros = [1, 5, 7, -1, 5]\n",
        "valor_soma = 6\n",
        "pares = pares_unicos(lista_de_numeros, valor_soma)\n",
        "print(pares)"
      ]
    },
    {
      "cell_type": "markdown",
      "id": "87e44893",
      "metadata": {
        "id": "87e44893"
      },
      "source": [
        "### Q5.\n",
        "\n",
        "Escreva um programa para encontrar a diferença entre duas listas, incluindo elementos duplicados.\n",
        "\n",
        "Ex:\n",
        "```\n",
        "Listas originais:\n",
        "[1, 1, 2, 3, 3, 4, 4, 5, 6, 7]\n",
        "[1, 1, 2, 4, 5, 6]\n",
        "Diferença entre as listas:\n",
        "[3, 3, 4, 7]\n",
        "```"
      ]
    },
    {
      "cell_type": "code",
      "execution_count": 8,
      "id": "7edc027c",
      "metadata": {
        "id": "7edc027c",
        "colab": {
          "base_uri": "https://localhost:8080/"
        },
        "outputId": "eea08d8a-899e-458b-ba1c-49c66ffbdca3"
      },
      "outputs": [
        {
          "output_type": "stream",
          "name": "stdout",
          "text": [
            "[1, 2, 3, 4]\n"
          ]
        }
      ],
      "source": [
        "from collections import Counter\n",
        "\n",
        "def diferenca_entre_listas(lista1, lista2):\n",
        "    contador1 = Counter(lista1)\n",
        "    contador2 = Counter(lista2)\n",
        "\n",
        "    # Subtraímos o contador2 do contador1\n",
        "    diferenca = contador1 - contador2\n",
        "\n",
        "    # Expandir o contador resultante em uma lista\n",
        "    resultado = list(diferenca.elements())\n",
        "\n",
        "    return resultado\n",
        "\n",
        "# Exemplo de uso\n",
        "lista1 = [1, 2, 2, 3, 4, 4, 4]\n",
        "lista2 = [2, 4, 4, 5]\n",
        "\n",
        "diferenca = diferenca_entre_listas(lista1, lista2)\n",
        "print(diferenca)"
      ]
    },
    {
      "cell_type": "markdown",
      "id": "f4c4236d",
      "metadata": {
        "id": "f4c4236d"
      },
      "source": [
        "### Q6.\n",
        "\n",
        "Dada uma lista aleatória, escreva um programa que separa os valores em listas menores de acordo com o tamanho solicitado. Caso não seja possível repartir igualmente a lista original, a última sublista deve conter os elementos remanescentes, como indicado no exemplo a seguir.\n",
        "\n",
        "Note que seu programa deve continuar executando em um laço infinito até que o usuário informe o tamanho 0 na entrada solicitada.\n",
        "\n",
        "```\n",
        "Lista original:\n",
        "[12, 45, 23, 67, 78, 90, 45, 32, 100, 76, 38, 62, 73, 29, 83]\n",
        "\n",
        "Tamanho para divisão: 3\n",
        "Subslistas:\n",
        "[[12, 45, 23], [67, 78, 90], [45, 32, 100], [76, 38, 62], [73, 29, 83]]\n",
        "\n",
        "Tamanho para divisão: 4\n",
        "Subslistas: [[12, 45, 23, 67], [78, 90, 45, 32], [100, 76, 38, 62], [73, 29, 83]]\n",
        "\n",
        "Tamanho para divisão: 0\n",
        "```"
      ]
    },
    {
      "cell_type": "code",
      "execution_count": 9,
      "id": "792563de",
      "metadata": {
        "id": "792563de",
        "colab": {
          "base_uri": "https://localhost:8080/"
        },
        "outputId": "de19792a-2eb4-48e8-d10c-646ebaaee440"
      },
      "outputs": [
        {
          "output_type": "stream",
          "name": "stdout",
          "text": [
            "Digite o tamanho das sublistas (0 para sair): 3\n",
            "Sublistas resultantes:\n",
            "[12, 45, 23]\n",
            "[67, 78, 90]\n",
            "[45, 32, 100]\n",
            "[76, 38, 62]\n",
            "[73, 29, 83]\n",
            "Digite o tamanho das sublistas (0 para sair): 2\n",
            "Sublistas resultantes:\n",
            "[12, 45]\n",
            "[23, 67]\n",
            "[78, 90]\n",
            "[45, 32]\n",
            "[100, 76]\n",
            "[38, 62]\n",
            "[73, 29]\n",
            "[83]\n",
            "Digite o tamanho das sublistas (0 para sair): 1\n",
            "Sublistas resultantes:\n",
            "[12]\n",
            "[45]\n",
            "[23]\n",
            "[67]\n",
            "[78]\n",
            "[90]\n",
            "[45]\n",
            "[32]\n",
            "[100]\n",
            "[76]\n",
            "[38]\n",
            "[62]\n",
            "[73]\n",
            "[29]\n",
            "[83]\n",
            "Digite o tamanho das sublistas (0 para sair): 10\n",
            "Sublistas resultantes:\n",
            "[12, 45, 23, 67, 78, 90, 45, 32, 100, 76]\n",
            "[38, 62, 73, 29, 83]\n",
            "Digite o tamanho das sublistas (0 para sair): 0\n",
            "Encerrando o programa.\n"
          ]
        }
      ],
      "source": [
        "def separar_em_sublists(lista, tamanho):\n",
        "    sublistas = [lista[i:i + tamanho] for i in range(0, len(lista), tamanho)]\n",
        "    return sublistas\n",
        "\n",
        "def main():\n",
        "    lista = [12, 45, 23, 67, 78, 90, 45, 32, 100, 76, 38, 62, 73, 29, 83]  # Lista aleatória fornecida\n",
        "\n",
        "    while True:\n",
        "        tamanho = int(input(\"Digite o tamanho das sublistas (0 para sair): \"))\n",
        "        if tamanho == 0:\n",
        "            print(\"Encerrando o programa.\")\n",
        "            break\n",
        "\n",
        "        sublistas = separar_em_sublists(lista, tamanho)\n",
        "        print(\"Sublistas resultantes:\")\n",
        "        for sublista in sublistas:\n",
        "            print(sublista)\n",
        "\n",
        "if __name__ == \"__main__\":\n",
        "    main()"
      ]
    },
    {
      "cell_type": "markdown",
      "id": "c65be32f",
      "metadata": {
        "id": "c65be32f"
      },
      "source": [
        "### Q7.\n",
        "\n",
        "Você está desenvolvendo um programa para determinar o vencedor de um jogo da velha. Escreva uma função ```avalia_tabuleiro()``` que recebe uma lista representando o estado atual do tabuleiro e determina se há um vencedor.\n",
        "\n",
        "A lista terá 3 sublistas, cada uma representando uma linha do tabuleiro. Cada elemento das sublistas pode ser 'X', 'O' ou vazio (' ').\n",
        "\n",
        "O programa deve imprimir o vencedor ('X', 'O'), se houver um, ou \"Empate\" se não houver vencedor. Um vencedor é determinado se houver três 'X' ou três 'O' em linha (horizontal, vertical ou diagonal).\n",
        "\n",
        "Exemplo:\n",
        "```python\n",
        "tabuleiro = [\n",
        "    ['X', 'O', 'X'],\n",
        "    [' ', 'X', 'O'],\n",
        "    ['O', ' ', 'O']\n",
        "]\n",
        "```\n",
        "O resultado seria \"Empate\", pois não há um vencedor no exemplo fornecido.\n",
        "\n",
        "Exemplo 2:\n",
        "```python\n",
        "tabuleiro = [\n",
        "    ['O', 'X', 'O'],\n",
        "    ['X', 'O', 'X'],\n",
        "    ['X', ' ', 'O']\n",
        "]\n",
        "```\n",
        "O resultado seria \"O\", pois 'O' venceu na diagonal central."
      ]
    },
    {
      "cell_type": "code",
      "execution_count": 10,
      "id": "720ca24d",
      "metadata": {
        "id": "720ca24d",
        "colab": {
          "base_uri": "https://localhost:8080/"
        },
        "outputId": "280dee86-20bd-406c-d957-d2fdb0f6c0d8"
      },
      "outputs": [
        {
          "output_type": "stream",
          "name": "stdout",
          "text": [
            "X\n",
            "X\n",
            "Empate\n",
            "O\n",
            "Empate\n"
          ]
        }
      ],
      "source": [
        "def avalia_tabuleiro(tabuleiro):\n",
        "    # Verificar linhas horizontais\n",
        "    for linha in tabuleiro:\n",
        "        if linha[0] == linha[1] == linha[2] and linha[0] != ' ':\n",
        "            return linha[0]\n",
        "\n",
        "    # Verificar linhas verticais\n",
        "    for col in range(3):\n",
        "        if tabuleiro[0][col] == tabuleiro[1][col] == tabuleiro[2][col] and tabuleiro[0][col] != ' ':\n",
        "            return tabuleiro[0][col]\n",
        "\n",
        "    # Verificar diagonais\n",
        "    if tabuleiro[0][0] == tabuleiro[1][1] == tabuleiro[2][2] and tabuleiro[0][0] != ' ':\n",
        "        return tabuleiro[0][0]\n",
        "\n",
        "    if tabuleiro[0][2] == tabuleiro[1][1] == tabuleiro[2][0] and tabuleiro[0][2] != ' ':\n",
        "        return tabuleiro[0][2]\n",
        "\n",
        "    return \"Empate\"\n",
        "\n",
        "# Testando a função nos exemplos fornecidos\n",
        "tabuleiro1 = [\n",
        "    ['X', 'O', 'X'],\n",
        "    [' ', 'X', 'O'],\n",
        "    ['O', ' ', 'X']\n",
        "]\n",
        "\n",
        "tabuleiro2 = [\n",
        "    ['X', 'O', 'O'],\n",
        "    ['X', 'X', 'O'],\n",
        "    ['X', 'O', 'X']\n",
        "]\n",
        "\n",
        "tabuleiro3 = [\n",
        "    [' ', ' ', ' '],\n",
        "    ['X', ' ', 'O'],\n",
        "    ['O', 'X', 'X']\n",
        "]\n",
        "\n",
        "tabuleiro4 = [\n",
        "    ['O', 'O', 'O'],\n",
        "    ['X', ' ', 'X'],\n",
        "    ['O', 'X', 'X']\n",
        "]\n",
        "\n",
        "tabuleiro5 = [\n",
        "    ['X', 'X', 'O'],\n",
        "    ['X', ' ', 'O'],\n",
        "    ['O', 'O', 'X']\n",
        "]\n",
        "\n",
        "print(avalia_tabuleiro(tabuleiro1))  # Output esperado: \"X\"\n",
        "print(avalia_tabuleiro(tabuleiro2))  # Output esperado: \"X\"\n",
        "print(avalia_tabuleiro(tabuleiro3))  # Output esperado: \"Empate\"\n",
        "print(avalia_tabuleiro(tabuleiro4))  # Output esperado: \"O\"\n",
        "print(avalia_tabuleiro(tabuleiro5))  # Output esperado: \"Empate\"\n"
      ]
    }
  ],
  "metadata": {
    "kernelspec": {
      "display_name": "Python 3 (ipykernel)",
      "language": "python",
      "name": "python3"
    },
    "language_info": {
      "codemirror_mode": {
        "name": "ipython",
        "version": 3
      },
      "file_extension": ".py",
      "mimetype": "text/x-python",
      "name": "python",
      "nbconvert_exporter": "python",
      "pygments_lexer": "ipython3",
      "version": "3.9.6"
    },
    "colab": {
      "provenance": []
    }
  },
  "nbformat": 4,
  "nbformat_minor": 5
}
