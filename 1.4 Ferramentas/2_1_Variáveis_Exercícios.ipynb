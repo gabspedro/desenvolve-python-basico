{
  "cells": [
    {
      "cell_type": "markdown",
      "metadata": {
        "id": "view-in-github",
        "colab_type": "text"
      },
      "source": [
        "<a href=\"https://colab.research.google.com/github/gabspedro/desenvolve-python-basico/blob/main/1.4%20Ferramentas/2_1_Vari%C3%A1veis_Exerc%C3%ADcios.ipynb\" target=\"_parent\"><img src=\"https://colab.research.google.com/assets/colab-badge.svg\" alt=\"Open In Colab\"/></a>"
      ]
    },
    {
      "cell_type": "markdown",
      "id": "a9d28135",
      "metadata": {
        "id": "a9d28135"
      },
      "source": [
        "# Módulo 2\n",
        "## 2.1 Variáveis\n",
        "\n",
        "### Q1.\n",
        "Selecione todos os itens a seguir que contém nomes válidos de variáveis. Lembre-se que alguns nomes com estrutura válida são palavras reservadas da linguagem e portanto não podem nomear variáveis.\n",
        "\n",
        "    a) nome_completo\n",
        "    b) quantidade@produtos\n",
        "    c) idade\n",
        "    d) soma idades\n",
        "    e) MediaNotas\n",
        "    f) _tipo\n",
        "    g) 2total\n",
        "    h) lambda"
      ]
    },
    {
      "cell_type": "code",
      "execution_count": 17,
      "id": "23ab7106",
      "metadata": {
        "colab": {
          "base_uri": "https://localhost:8080/"
        },
        "id": "23ab7106",
        "outputId": "539e241b-7c92-4bc2-a5fc-d4a437c10cad"
      },
      "outputs": [
        {
          "output_type": "stream",
          "name": "stdout",
          "text": [
            "a c e\n"
          ]
        }
      ],
      "source": [
        "# Preencha o print com as alternativas corretas\n",
        "# separadas por espaços em branco.\n",
        "# Ex: print(\"a b c\")\n",
        "\n",
        "print(\"a c e\")"
      ]
    },
    {
      "cell_type": "markdown",
      "id": "f56d2b28",
      "metadata": {
        "id": "f56d2b28"
      },
      "source": [
        "---\n",
        "### Q2.\n",
        "Dados os scripts a seguir, faça:\n",
        "- Para os scripts corretos escreva o resultado impresso ao final da execução\n",
        "- Para os incorretos descreva todos os erros identificados apontando a linha onde cada erro acontece.\n"
      ]
    },
    {
      "cell_type": "markdown",
      "id": "a2f2461b",
      "metadata": {
        "id": "a2f2461b"
      },
      "source": [
        "```python\n",
        "# Script 1\n",
        "x = 10\n",
        "y = x + 2\n",
        "print(y - 5)\n",
        "```"
      ]
    },
    {
      "cell_type": "code",
      "execution_count": 18,
      "id": "4371ac7b",
      "metadata": {
        "colab": {
          "base_uri": "https://localhost:8080/"
        },
        "id": "4371ac7b",
        "outputId": "396c4748-ec13-4959-82d4-154f6d0c76ad"
      },
      "outputs": [
        {
          "output_type": "stream",
          "name": "stdout",
          "text": [
            "7\n"
          ]
        }
      ],
      "source": [
        "# preencha o print com sua resposta\n",
        "print(\"7\")"
      ]
    },
    {
      "cell_type": "markdown",
      "id": "b38baa9c",
      "metadata": {
        "id": "b38baa9c"
      },
      "source": [
        "```python\n",
        "# Script 2\n",
        "soma = n1 + n2\n",
        "print(soma)\n",
        "```"
      ]
    },
    {
      "cell_type": "code",
      "execution_count": 19,
      "id": "82b5064b",
      "metadata": {
        "colab": {
          "base_uri": "https://localhost:8080/"
        },
        "id": "82b5064b",
        "outputId": "4e1775c2-8efe-42fd-b4ea-2a737dc11384"
      },
      "outputs": [
        {
          "output_type": "stream",
          "name": "stdout",
          "text": [
            " \n"
          ]
        }
      ],
      "source": [
        "# preencha o print com sua resposta\n",
        "print(\"Os valores de n1 e n2 não foram registrados no script nas linhas depois da anotação e antres da variavel soma\")"
      ]
    },
    {
      "cell_type": "markdown",
      "id": "c2f3ab7a",
      "metadata": {
        "id": "c2f3ab7a"
      },
      "source": [
        "```python\n",
        "# Script 3\n",
        "a = 10\n",
        "a = a + 1\n",
        "print(a)\n",
        "```"
      ]
    },
    {
      "cell_type": "code",
      "execution_count": 20,
      "id": "7b9db0c7",
      "metadata": {
        "colab": {
          "base_uri": "https://localhost:8080/"
        },
        "id": "7b9db0c7",
        "outputId": "37858a54-f444-4b49-b81e-caa3fe55e90a"
      },
      "outputs": [
        {
          "output_type": "stream",
          "name": "stdout",
          "text": [
            "11\n"
          ]
        }
      ],
      "source": [
        "# preencha o print com sua resposta\n",
        "print(\"11\")"
      ]
    },
    {
      "cell_type": "markdown",
      "id": "dd40d2c9",
      "metadata": {
        "id": "dd40d2c9"
      },
      "source": [
        "```python\n",
        "# Script 4\n",
        "saldo da conta = 1500\n",
        "0.1 = juros\n",
        "print(saldo da conta * juros)\n",
        "```"
      ]
    },
    {
      "cell_type": "code",
      "execution_count": null,
      "id": "2dec64ac",
      "metadata": {
        "id": "2dec64ac"
      },
      "outputs": [],
      "source": [
        "# preencha o print com sua resposta\n",
        "print(\"Variável de saldo(linha 2) foi feita utilizando espaço entre as palavras e a Variável de juros(linha 3) foi colocada ao contrario, no caso, o valor no lugar no nome e vice versa\")"
      ]
    },
    {
      "cell_type": "markdown",
      "id": "9ba1f2a8",
      "metadata": {
        "id": "9ba1f2a8"
      },
      "source": [
        "---\n",
        "### Q3.\n",
        "Declare três variáveis, `num1`, `num2` e `num3`, com valores inteiros numéricos de sua escolha. Calcule e imprima a média desses três números. Utilize a fórmula: `(num1 + num2 + num3) / 3`."
      ]
    },
    {
      "cell_type": "code",
      "execution_count": 24,
      "id": "e1963351",
      "metadata": {
        "colab": {
          "base_uri": "https://localhost:8080/"
        },
        "id": "e1963351",
        "outputId": "22521ca5-fc89-438f-94db-251f9e2e8e8c"
      },
      "outputs": [
        {
          "output_type": "stream",
          "name": "stdout",
          "text": [
            "15.333333333333334\n"
          ]
        }
      ],
      "source": [
        "## Escreva e execute seu código aqui\n",
        "\n",
        "num1 = 1\n",
        "num2 = 37\n",
        "num3 = 8\n",
        "print((num1 + num2 +num3) / 3)"
      ]
    },
    {
      "cell_type": "markdown",
      "id": "7940ba20",
      "metadata": {
        "id": "7940ba20"
      },
      "source": [
        "---\n",
        "### Q4.\n",
        "Escreva um script python que:\n",
        "- Armazene em uma variável uma velocidade de 90 km/h\n",
        "- Calcule e armazene o equivalente em m/s\n",
        "    - Divida o valor original por 3.6 para obter o resultado em m/s. Em python a sintaxe da divisão e atribuição é c = a / b\n",
        "- Imprima na tela a velocidade o resultado m/s\n"
      ]
    },
    {
      "cell_type": "code",
      "execution_count": 26,
      "id": "dd4fe7ae",
      "metadata": {
        "colab": {
          "base_uri": "https://localhost:8080/"
        },
        "id": "dd4fe7ae",
        "outputId": "91fd386a-9b98-42cd-d8ba-dcdbc23a7e84"
      },
      "outputs": [
        {
          "output_type": "stream",
          "name": "stdout",
          "text": [
            "25.0\n"
          ]
        }
      ],
      "source": [
        "## Escreva e execute seu código aqui\n",
        "\n",
        "velocidade_km = 90\n",
        "velocidade_ms = velocidade_km / 3.6\n",
        "print(velocidade_ms)"
      ]
    },
    {
      "cell_type": "markdown",
      "id": "cc714a42",
      "metadata": {
        "id": "cc714a42"
      },
      "source": [
        "---\n",
        "### Q5.\n",
        "Escreva um script python que:\n",
        "- Armazene o seu nome em uma variável\n",
        "    - Dica: para armazenar textos em variáveis basta colocar a palavra desejada entre aspas, ex: \"Camila\", à direita do operador de atribuição.\n",
        "- Imprima o texto \"Meu nome é:\"\n",
        "- Imprima a variável com seu nome\n"
      ]
    },
    {
      "cell_type": "code",
      "execution_count": 32,
      "id": "10a6a794",
      "metadata": {
        "colab": {
          "base_uri": "https://localhost:8080/"
        },
        "id": "10a6a794",
        "outputId": "967b51a2-0520-4fc7-d339-44adc3cd270f"
      },
      "outputs": [
        {
          "output_type": "stream",
          "name": "stdout",
          "text": [
            "Meu Nome É:\n",
            "Gabriel Henrique Oliveira Pedro\n"
          ]
        }
      ],
      "source": [
        "## Escreva e execute seu código aqui\n",
        "\n",
        "nome_completo = \"Gabriel Henrique Oliveira Pedro\"\n",
        "\n",
        "print(\"Meu Nome É:\")\n",
        "print(nome_completo)"
      ]
    }
  ],
  "metadata": {
    "kernelspec": {
      "display_name": "Python 3 (ipykernel)",
      "language": "python",
      "name": "python3"
    },
    "language_info": {
      "codemirror_mode": {
        "name": "ipython",
        "version": 3
      },
      "file_extension": ".py",
      "mimetype": "text/x-python",
      "name": "python",
      "nbconvert_exporter": "python",
      "pygments_lexer": "ipython3",
      "version": "3.9.6"
    },
    "colab": {
      "provenance": [],
      "include_colab_link": true
    }
  },
  "nbformat": 4,
  "nbformat_minor": 5
}