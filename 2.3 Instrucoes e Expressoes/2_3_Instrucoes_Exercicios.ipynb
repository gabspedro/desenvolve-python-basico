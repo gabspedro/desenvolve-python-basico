{
  "nbformat": 4,
  "nbformat_minor": 0,
  "metadata": {
    "colab": {
      "provenance": []
    },
    "kernelspec": {
      "name": "python3",
      "display_name": "Python 3"
    },
    "language_info": {
      "name": "python"
    }
  },
  "cells": [
    {
      "cell_type": "markdown",
      "source": [
        "# Módulo 2\n",
        "\n",
        "## 2.3 Instruções e Expressões\n",
        "\n",
        "### Q1\n",
        "\n",
        "Faça um programa que armazene o valor de 20 reais de salário por hora de um trabalhador, e o número de 40 horas trabalhadas na semana. Com essas informações, calcule e imprima:\n",
        "- Salário semanal bruto\n",
        "- Valor descontado por semana INSS (10% do bruto)\n",
        "- Valor descontado por semana pelo sindicato (5% do bruto)\n",
        "- Salário semanal líquido (Bruto - Descontos)"
      ],
      "metadata": {
        "id": "1pCTdOHonv5f"
      }
    },
    {
      "cell_type": "code",
      "execution_count": 18,
      "metadata": {
        "id": "hVbX0I97nj6M",
        "colab": {
          "base_uri": "https://localhost:8080/"
        },
        "outputId": "de600644-1afc-4ab8-f517-56ab9a5897df"
      },
      "outputs": [
        {
          "output_type": "stream",
          "name": "stdout",
          "text": [
            "800\n",
            "720.0\n",
            "684.0\n"
          ]
        }
      ],
      "source": [
        "## Escreva e execute seu código aqui\n",
        "\n",
        "SH, HTS = 20, 40 #Salário por Hora e Horas de Trabalho Semanais\n",
        "\n",
        "SSB = SH * HTS #Salário Semanal Bruto\n",
        "print(SSB)\n",
        "SSD1 = SSB - (SSB/100*10) #Salário Semanal - Desconto 1\n",
        "print(SSD1)\n",
        "SSD2 = SSD1 - (SSD1/100*5) #Salário Semanal - Desconto 2\n",
        "print(SSD2)"
      ]
    },
    {
      "cell_type": "markdown",
      "source": [
        "### Q2\n",
        "\n",
        "Altere o programa anterior para a partir dos valores de horas trabalhadas por semana e salário por hora, calcular **em somente duas instruções**:\n",
        "- Salário semanal bruto\n",
        "- Salário semanal líquido com todos os descontos. Para a segunda instrução, realize todos os cálculos aritméticos em uma expressão composta.\n"
      ],
      "metadata": {
        "id": "pIxKX9J2oGZ1"
      }
    },
    {
      "cell_type": "code",
      "source": [
        "## Escreva e execute seu código aqui\n",
        "SSB = 20 * 40\n",
        "print(SSB)\n",
        "SSL = SSB - (SSB/100*10)\n",
        "print(SSL)\n",
        "SSL2 = SSL - (SSL/100*5)\n",
        "print(SSL2)"
      ],
      "metadata": {
        "id": "pAHw9Xf9oGoi",
        "colab": {
          "base_uri": "https://localhost:8080/"
        },
        "outputId": "15b676ac-716b-4a30-ab3c-53ea166257af"
      },
      "execution_count": 29,
      "outputs": [
        {
          "output_type": "stream",
          "name": "stdout",
          "text": [
            "800\n",
            "720.0\n",
            "684.0\n"
          ]
        }
      ]
    },
    {
      "cell_type": "markdown",
      "source": [
        "### Q3\n",
        "\n",
        "Você está desenvolvendo um software de conversão de moeda e precisa calcular o valor equivalente em yuan chinês a partir de uma quantia em real. A taxa de câmbio é de 0.69 BRL (real) para 1 CNY (yuan). Escreva um programa que define em uma variável uma quantia em reais (BRL) e calcula o valor equivalente em yuan (CNY). Imprima o resultado."
      ],
      "metadata": {
        "id": "m8tlHRuWpBOB"
      }
    },
    {
      "cell_type": "code",
      "source": [
        "## Escreva e execute seu código aqui\n",
        "BRL = 500\n",
        "print\n",
        "CNY = BRL/0.69\n",
        "print(CNY)"
      ],
      "metadata": {
        "id": "2bPw7uF6oeL9",
        "colab": {
          "base_uri": "https://localhost:8080/"
        },
        "outputId": "996a2880-377c-4a22-a7d9-6a9e062e65a7"
      },
      "execution_count": 39,
      "outputs": [
        {
          "output_type": "stream",
          "name": "stdout",
          "text": [
            "724.6376811594204\n"
          ]
        }
      ]
    },
    {
      "cell_type": "markdown",
      "source": [
        "### Q4\n",
        "\n",
        "Você é um treinador de corrida e deseja calcular a velocidade média que um atleta precisa manter para completar a Maratona Internacional de São Silvestre, que tem uma distância total de 42.195 km. A fórmula para calcular a velocidade média ($v\\_media$) é dada por $v\\_media = \\frac{distancia}{tempo}$ . Escreva um programa em Python para calcular a velocidade média necessária para completar a maratona em 3 horas.\n",
        "\n",
        "**Calcule e imprima o resultado em metros/segundo**, ou seja, converta a distância de quilômetros para metros ($metro = \\frac{km}{1000}$) e a velocidade de horas para segundos $(segundo = \\frac{hora}{3600})$."
      ],
      "metadata": {
        "id": "-Na3ltDCp74A"
      }
    },
    {
      "cell_type": "code",
      "source": [
        "## Escreva e execute seu código aqui\n",
        "d = 49.195\n",
        "t = 3\n",
        "vm = d/t\n",
        "print(vm)\n",
        "\n",
        "m = d/1000\n",
        "s = t/3600\n",
        "vms = m/s\n",
        "print(vms)"
      ],
      "metadata": {
        "id": "Bn6l8kcSrE4L",
        "colab": {
          "base_uri": "https://localhost:8080/"
        },
        "outputId": "dbbad080-6e50-455b-8ecf-db5917795d20"
      },
      "execution_count": 45,
      "outputs": [
        {
          "output_type": "stream",
          "name": "stdout",
          "text": [
            "16.398333333333333\n",
            "59.034\n"
          ]
        }
      ]
    },
    {
      "cell_type": "code",
      "source": [],
      "metadata": {
        "id": "G_YleRlDIY4V"
      },
      "execution_count": null,
      "outputs": []
    }
  ]
}